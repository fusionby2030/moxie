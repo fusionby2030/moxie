{
 "cells": [
  {
   "cell_type": "markdown",
   "id": "8a79303e-897a-4b60-9a8b-b514f9f9bfce",
   "metadata": {},
   "source": [
    "A notebook to update the values in the profile database. \n",
    "Hopefully it will be filled with useful tools to be used later. \n"
   ]
  },
  {
   "cell_type": "code",
   "execution_count": 25,
   "id": "0a992e4c-d407-4028-8f5d-332c6db45a11",
   "metadata": {},
   "outputs": [],
   "source": [
    "import pickle \n",
    "import h5py\n",
    "import numpy as np"
   ]
  },
  {
   "cell_type": "code",
   "execution_count": 2,
   "id": "e5dc6df8-647f-4e16-b91e-08201d7e5e27",
   "metadata": {},
   "outputs": [],
   "source": [
    "with open('/home/kitadam/ENR_Sven/moxie/data/raw/remaining_profile_data.pickle', 'rb') as file: \n",
    "    all_shot_dict = pickle.load(file, encoding='latin')"
   ]
  },
  {
   "cell_type": "code",
   "execution_count": null,
   "id": "2d2662c3-56b1-4b3c-8a7d-8a3d00c0c404",
   "metadata": {},
   "outputs": [],
   "source": []
  },
  {
   "cell_type": "code",
   "execution_count": 43,
   "id": "9fb967f0-062f-42c5-a903-865869de591e",
   "metadata": {},
   "outputs": [
    {
     "name": "stdout",
     "output_type": "stream",
     "text": [
      "89147\n",
      "Recollect Data\n",
      "89147\n",
      "Recollect Data\n",
      "89147\n",
      "Recollect Data\n",
      "89151\n",
      "Recollect Data\n",
      "89151\n",
      "Recollect Data\n",
      "89151\n",
      "Recollect Data\n"
     ]
    }
   ],
   "source": [
    "with h5py.File('/home/kitadam/ENR_Sven/moxie/data/processed/profile_database_only_shots.hdf5', 'r+') as f:\n",
    "    for pulse_num, items in all_shot_dict.items(): \n",
    "        #print(pulse_num)\n",
    "        \n",
    "        pulse = f[str(pulse_num)]\n",
    "        pulse_profiles = pulse['profiles']\n",
    "        for dda, dda_items in items.items(): \n",
    "            values, times = dda_items['values'], dda_items['time']\n",
    "            np.testing.assert_array_equal(times, pulse_profiles['time'])\n",
    "            if not values.shape == pulse_profiles['NE'][:].shape:\n",
    "                print(pulse_num)\n",
    "                print('Recollect Data')\n",
    "                \n",
    "            #try: \n",
    "            #    pulse_profiles.create_dataset(dda, data=values)\n",
    "            #except ValueError as e: \n",
    "            #    pass \n",
    "            # # Create a bunch of datasets \n",
    "            # pulse_profiles\n",
    "            \n",
    "        "
   ]
  },
  {
   "cell_type": "code",
   "execution_count": null,
   "id": "c5b2af6a-efdc-493e-a7ee-7ef548a21eb9",
   "metadata": {},
   "outputs": [],
   "source": []
  }
 ],
 "metadata": {
  "kernelspec": {
   "display_name": "Python 3 (ipykernel)",
   "language": "python",
   "name": "python3"
  },
  "language_info": {
   "codemirror_mode": {
    "name": "ipython",
    "version": 3
   },
   "file_extension": ".py",
   "mimetype": "text/x-python",
   "name": "python",
   "nbconvert_exporter": "python",
   "pygments_lexer": "ipython3",
   "version": "3.8.10"
  }
 },
 "nbformat": 4,
 "nbformat_minor": 5
}
