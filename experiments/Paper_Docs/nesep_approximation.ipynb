{
 "cells": [
  {
   "cell_type": "code",
   "execution_count": 1,
   "id": "04757e31-8d05-4e66-bfaa-dd63ab19c7ea",
   "metadata": {},
   "outputs": [],
   "source": [
    "# Data stuffs\n",
    "import pickle \n",
    "import numpy as np\n",
    "import pandas as pd\n",
    "import pathlib \n",
    "import os, sys\n",
    "from moxie.data.utils_ import load_data, standardize, de_standardize, normalize_profiles\n",
    "\n",
    "# Plotting\n",
    "import matplotlib\n",
    "import matplotlib.cm as cm\n",
    "import matplotlib.pyplot as plt \n",
    "\n",
    "# Make it look pretty\n",
    "from IPython.display import display, HTML\n",
    "from tqdm.notebook import tqdm  \n",
    "\n",
    "# ML Stuff\n",
    "import torch \n",
    "from torch.nn import functional as F\n",
    "from moxie.models.DIVA_ak_2 import DIVAMODEL\n",
    "from moxie.data.profile_lightning_module import PLDATAMODULE_AK\n",
    "from moxie.experiments.DIVA_EXP_AK_1 import EXAMPLE_DIVA_EXP_AK\n",
    "from moxie.models.utils_ import conditional_inference_simple_mean\n",
    "\n",
    "SMALL_SIZE = 14\n",
    "MEDIUM_SIZE = 16\n",
    "BIGGER_SIZE = 22\n",
    "\n",
    "plt.rc('font', size=BIGGER_SIZE)          # controls default text sizes\n",
    "plt.rc('axes', titlesize=BIGGER_SIZE)     # fontsize of the axes title\n",
    "plt.rc('axes', labelsize=BIGGER_SIZE)    # fontsize of the x and y labels\n",
    "plt.rc('xtick', labelsize=SMALL_SIZE)    # fontsize of the tick labels\n",
    "plt.rc('ytick', labelsize=SMALL_SIZE)    # fontsize of the tick labels\n",
    "plt.rc('legend', fontsize=MEDIUM_SIZE)    # legend fontsize\n",
    "plt.rc('figure', titlesize=BIGGER_SIZE)  # fontsize of the figure title\n",
    "%matplotlib widget"
   ]
  },
  {
   "cell_type": "code",
   "execution_count": 72,
   "id": "66e9ecd6-16f2-4cae-98a3-ecdde8bad576",
   "metadata": {},
   "outputs": [],
   "source": [
    "# Load data \n",
    "val_data, val_data, test_data = load_data(dataset_choice='SANDBOX_NO_VARIATIONS', file_loc='/home/adam/ENR_Sven/moxie/data/processed/pedestal_profiles_ML_READY_ak_5052022_uncerts_mask.pickle')\n",
    "(train_X, train_y, train_mask, train_radii, train_real_space_radii, train_ids, train_uncert), (val_X, val_y, val_mask, val_radii, val_real_space_radii, val_ids, val_uncert), (test_X, test_y, test_mask, test_radii, test_real_space_radii, test_ids, test_uncert) = train_data, val_data, test_data\n",
    "\n",
    "machine_param_order = ['Q95', 'RGEO', 'CR0', 'VOLM', 'TRIU', 'TRIL', 'ELON', 'POHM', 'IPLA', 'BVAC', 'NBI', 'ICRH', 'ELER']\n",
    "JET_PDB = pd.read_csv('/home/adam/ENR_Sven/moxie/data/raw/jet-pedestal-database.csv')\n",
    "PULSE_DF_SANDBOX = JET_PDB[(JET_PDB['FLAG:HRTSdatavalidated'] > 0) & (JET_PDB['shot'] > 80000) & (JET_PDB['Atomicnumberofseededimpurity'].isin([0, 7])) & (JET_PDB['FLAG:DEUTERIUM'] == 1.0) & (JET_PDB['FLAG:Kicks'] == 0.0) & (JET_PDB['FLAG:RMP'] == 0.0) & (JET_PDB['FLAG:pellets'] == 0.0)]\n",
    "relevant_columns = ['shot', 'nepedheight10^19(m^-3)','Tepedheight(keV)', 'B(T)','Ip(MA)', 'q95',  'R(m)', 'a(m)','gasflowrateofmainspecies10^22(e/s)',  'P_TOT=PNBI+Pohm+PICRH-Pshi(MW)', 'P_ICRH(MW)', 'P_NBI(MW)','plasmavolume(m^3)', 'averagetriangularity', 'divertorconfiguration', 'FLAG:Seeding', 'FLAG:Kicks',\n",
    " 'FLAG:RMP',\n",
    " 'FLAG:pellets',]\n",
    "FLAGS = [x for x in JET_PDB.columns.to_list() if 'FLAG' in x]\n",
    "\n",
    "train_pulse_order = [int(x.split('/')[0]) for x in train_ids]\n",
    "train_pulses = list(set(train_pulse_order))\n",
    "train_pulse_idxs = [[index for index in range(len(train_pulse_order)) if train_pulse_order[index] == pulse] for pulse in train_pulses]\n",
    "\n",
    "val_pulse_order = [int(x.split('/')[0]) for x in val_ids]\n",
    "val_pulses = list(set(val_pulse_order))\n",
    "val_pulse_idxs = [[index for index in range(len(val_pulse_order)) if val_pulse_order[index] == pulse] for pulse in val_pulses]\n",
    "\n",
    "test_pulse_order = [int(x.split('/')[0]) for x in test_ids]\n",
    "test_pulses = list(set(test_pulse_order))\n",
    "test_pulse_idxs = [[index for index in range(len(test_pulse_order)) if test_pulse_order[index] == pulse] for pulse in test_pulses]\n"
   ]
  },
  {
   "cell_type": "code",
   "execution_count": 31,
   "id": "76a1173c-e07c-4b65-84d9-a6892c087b57",
   "metadata": {},
   "outputs": [],
   "source": [
    "from scipy.stats import truncnorm\n"
   ]
  },
  {
   "cell_type": "code",
   "execution_count": 112,
   "id": "5ea15191-ae6c-4260-8881-76c5581f18e3",
   "metadata": {},
   "outputs": [],
   "source": [
    "def calculate_nesep_for_pulse(both_profiles, both_uncertanties, integer_masks, lbound_n, ubound_n, lbound_t, ubound_t):\n",
    "    \"\"\"\n",
    "    This will return the neseps predicted for each time slice in the pulse. \n",
    "    \"\"\"\n",
    "    \n",
    "    pulse_neseps = np.zeros(len(both_profiles))\n",
    "    \n",
    "    for n, (both_profiles_slice, both_uncertanties_slice, mask_int_slice) in enumerate(zip(both_profiles, both_uncertanties, integer_masks)):\n",
    "        bool_mask = mask_int_slice > 0\n",
    "        slice_ne, slice_te = both_profiles_slice[0, :][bool_mask], both_profiles_slice[1, :][bool_mask]\n",
    "        slice_ne_uncert, slice_te_uncert = both_uncertanties_slice[0, :][bool_mask], both_uncertanties_slice[1, :][bool_mask]\n",
    "        \n",
    "        tes_gaussians = np.array([np.linspace(truncnorm.ppf(0.01, (lbound_t - mu) / var, (ubound_t - mu) / var, mu, var), \n",
    "                                     truncnorm.ppf(0.99, (lbound_t - mu) / var, (ubound_t - mu) / var, mu, var), 10000)\n",
    "                        for mu, var in zip(slice_te, slice_te_uncert)])\n",
    "        \n",
    "        separatrix_loc = np.logical_and(tes_gaussians > 90, tes_gaussians < 110)\n",
    "        tesep_in_separatrix = tes_gaussians[separatrix_loc]\n",
    "        \n",
    "        \n",
    "        nes_gaussians = np.array([np.linspace(truncnorm.ppf(0.1, (lbound_n - mu) / var, (ubound_n - mu) / var, mu, var), \n",
    "                                     truncnorm.ppf(0.9, (lbound_n - mu) / var, (ubound_n - mu) / var, mu, var), 10000)\n",
    "                        for mu, var in zip(slice_ne, slice_ne_uncert)])\n",
    "        \n",
    "        nes_in_separatrix = nes_gaussians[separatrix_loc]\n",
    "        slice_nesep = np.mean(nes_in_separatrix)\n",
    "        pulse_neseps[n] = slice_nesep\n",
    "    \n",
    "    return pulse_neseps\n",
    "\n",
    "def calculate_neseps_in_set(set_ids, set_profiles, set_uncerts, set_masks, set_shot_numbers_by_slice, pedestal_database): \n",
    "    iterator = tqdm(range(len(set_ids)))\n",
    "    \n",
    "    neseps_means_lorenzo = np.zeros((2, len(set_ids)))\n",
    "    for k in iterator: \n",
    "        slice_loc_in_set = set_ids[k]\n",
    "        pulse_number = np.array(set_shot_numbers_by_slice)[set_ids[k]][0]\n",
    "        \n",
    "        JPDB_pulse = pedestal_database[pedestal_database['shot'] == pulse_number]\n",
    "        lorenzo_nesep  = JPDB_pulse[['neseparatrixfromexpdata10^19(m^-3)', 'neseparatrixfromfit10^19(m^-3)']].values[0]\n",
    "     \n",
    "        lorenzo_nesep_exp, lorenzo_nesep_fit = lorenzo_nesep\n",
    "    \n",
    "        sample_profiles, sample_uncerts, sample_masks = set_profiles[slice_loc_in_set], set_uncerts[slice_loc_in_set], set_masks[slice_loc_in_set]\n",
    "        pulse_neseps = calculate_nesep_for_pulse(sample_profiles, sample_uncerts, sample_masks, lbound_n = 0, ubound_n = 1e21, lbound_t=0, ubound_t=2000)\n",
    "        mean_pulse_nesep = pulse_neseps.mean()\n",
    "        \n",
    "        iterator.set_description_str(str(pulse_number))\n",
    "        iterator.set_postfix_str('fras{:.3}mean{:.4}'.format(lorenzo_nesep_exp, 1e-19*mean_pulse_nesep))\n",
    "    return neseps_means_lorenzo\n",
    "    \n",
    "                    "
   ]
  },
  {
   "cell_type": "code",
   "execution_count": null,
   "id": "022e9c93-dbdd-4263-8a1f-a03630c83be1",
   "metadata": {},
   "outputs": [
    {
     "data": {
      "application/vnd.jupyter.widget-view+json": {
       "model_id": "118f31a7c5e1408e99a957c23e848034",
       "version_major": 2,
       "version_minor": 0
      },
      "text/plain": [
       "  0%|          | 0/533 [00:00<?, ?it/s]"
      ]
     },
     "metadata": {},
     "output_type": "display_data"
    }
   ],
   "source": [
    "calculate_neseps_in_set(train_pulse_idxs, train_X, train_uncert, train_mask, train_pulse_order, JET_PDB)\n",
    "\n",
    "# sample_profiles, sample_uncerts, sample_masks = train_X[0:10, :, :], train_uncert[0:10, :, :], train_mask[0:10]\n",
    "\n",
    "# sample_neseps_slices = calculate_nesep_for_pulse(sample_profiles, sample_uncerts, sample_masks, lbound_n = 0, ubound_n = 1e21, lbound_t=0, ubound_t=10000)\n"
   ]
  },
  {
   "cell_type": "code",
   "execution_count": null,
   "id": "69e8f898-9676-40df-ad78-3f00ba56f7d5",
   "metadata": {},
   "outputs": [],
   "source": []
  }
 ],
 "metadata": {
  "kernelspec": {
   "display_name": "Python 3 (ipykernel)",
   "language": "python",
   "name": "python3"
  },
  "language_info": {
   "codemirror_mode": {
    "name": "ipython",
    "version": 3
   },
   "file_extension": ".py",
   "mimetype": "text/x-python",
   "name": "python",
   "nbconvert_exporter": "python",
   "pygments_lexer": "ipython3",
   "version": "3.8.10"
  }
 },
 "nbformat": 4,
 "nbformat_minor": 5
}
