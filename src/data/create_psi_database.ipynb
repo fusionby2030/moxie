{
 "cells": [
  {
   "cell_type": "code",
   "execution_count": 3,
   "id": "462785c4",
   "metadata": {},
   "outputs": [],
   "source": [
    "import pickle \n",
    "import numpy as np\n",
    "import pandas as pd\n",
    "import h5py"
   ]
  },
  {
   "cell_type": "markdown",
   "id": "56f94eb8",
   "metadata": {},
   "source": [
    "- Gather pulses, t1, t2, nesep (exp & from fit) from JET database\n",
    "    - If nesep is 0, then drop it"
   ]
  },
  {
   "cell_type": "code",
   "execution_count": 18,
   "id": "c8b4a62f",
   "metadata": {},
   "outputs": [],
   "source": [
    "jet_pdb = pd.read_csv('pedestal-database.csv')\n",
    "important_info = jet_pdb[['shot', 't1', 't2', 'neseparatrixfromexpdata10^19(m^-3)', 'error_neseparatrixfromexpdata10^19(m^-3)','neseparatrixfromfit10^19(m^-3)',\n",
    " 'error_neseparatrixfromfit10^19(m^-3)','FLAG:HRTSdatavalidated']]\n",
    "final_pulse_list = important_info[(important_info['neseparatrixfromexpdata10^19(m^-3)'] != 0.0) & (important_info['neseparatrixfromexpdata10^19(m^-3)'] != -1.0) &  (important_info['shot'] >= 79000) &  (important_info['FLAG:HRTSdatavalidated'] > 0)]\n",
    "\n",
    "# final_pulse_list.describe()"
   ]
  },
  {
   "cell_type": "markdown",
   "id": "b95394e0",
   "metadata": {},
   "source": [
    "- Import the raw profiles stuffs"
   ]
  },
  {
   "cell_type": "code",
   "execution_count": 5,
   "id": "b06dd4a3",
   "metadata": {},
   "outputs": [],
   "source": [
    "with open('all_shots_with_T.pickle', 'rb') as file:\n",
    "    pulse_dicts = pickle.load(file)"
   ]
  },
  {
   "cell_type": "markdown",
   "id": "124c4bbc",
   "metadata": {},
   "source": [
    "Create HDF5 file with the dataset groups (Name of group): \n",
    "\n",
    "1. (strohman) Nesep the same for each profile in the time window \n",
    "2. (sampled) Nesep sampled from gaussian distribution with std given by database \n",
    "\n",
    "For each group we have the following datasets \n",
    "- X: profiles\n",
    "- y: corresponding nesep value"
   ]
  },
  {
   "cell_type": "code",
   "execution_count": 52,
   "id": "54ffa5a4",
   "metadata": {},
   "outputs": [],
   "source": [
    "f = h5py.File('./pedestal_profile_for_nesep.hdf5', 'w')\n",
    "grp_strohman = f.create_group(\"strohman\")\n",
    "grp_sampled = f.create_group(\"sampled\")"
   ]
  },
  {
   "cell_type": "markdown",
   "id": "c29fa9e3",
   "metadata": {},
   "source": [
    "### Strohman Gathering\n",
    "\n",
    "- For each shot in pedestal db\n",
    "    - Gather profiles within time windows of entry\n",
    "    - Add them to X \n",
    "    - Add same number of nesep values from jetpdb to y as there are profiles within window \n",
    "    \n",
    "### Sampling Gathering\n",
    "\n",
    "- For each shot in pedestal db\n",
    "    - Gather profiles within time windows of entry\n",
    "    - Add them to X \n",
    "    - Get nesep +- std from jet pdb \n",
    "    - create guassian distribution\n",
    "    - Add same number nesep sampled from gaussian distribution to y as there are profiles within window "
   ]
  },
  {
   "cell_type": "code",
   "execution_count": 49,
   "id": "401ca42a",
   "metadata": {},
   "outputs": [],
   "source": [
    "def sample_nesep(mean_val, std_val):\n",
    "    return np.random.normal(mean_val, std_val)"
   ]
  },
  {
   "cell_type": "code",
   "execution_count": 50,
   "id": "929f0765",
   "metadata": {},
   "outputs": [],
   "source": [
    "pulses = pulse_dicts.keys()\n",
    "X = []\n",
    "y = []\n",
    "y_sampled = []\n",
    "pulse_list = []\n",
    "i = 0\n",
    "for index, row in final_pulse_list.iterrows():\n",
    "    shot, t1, t2 = str(int(row['shot'])), row['t1'], row['t2']\n",
    "    nesep, dnesep = row['neseparatrixfromexpdata10^19(m^-3)'], row['error_neseparatrixfromexpdata10^19(m^-3)']\n",
    "    if shot not in pulses:\n",
    "        print('Shot {} not stored in adams db, you should probably go get it'.format(shot))\n",
    "        continue\n",
    "    raw_shot = pulse_dicts[shot]['outputs']\n",
    "    sample_ne = raw_shot['NE']\n",
    "    sample_time = raw_shot['time']\n",
    "    profiles_idx = np.logical_and(sample_time > t1, sample_time < t2)\n",
    "    profiles = sample_ne[profiles_idx]\n",
    "    if len(profiles[0]) != 63:\n",
    "        profiles = np.pad(profiles, ((0, 0), (0, 63 - len(profiles[0]))), 'constant')\n",
    "    X.extend(profiles)\n",
    "    y.extend([nesep for _ in range(len(profiles))])\n",
    "    y_sampled.extend([sample_nesep(nesep, dnesep) for _ in range(len(profiles))])\n",
    "    pulse_list.extend([shot for _ in range(len(profiles))])\n",
    "    i += 1\n",
    "X = np.vstack(X)\n",
    "y = np.vstack(y)\n",
    "y_sampled = np.vstack(y_sampled)\n"
   ]
  },
  {
   "cell_type": "markdown",
   "id": "c0773578",
   "metadata": {},
   "source": [
    "Add the pulses to the respective groups, and close the HDF5 file. "
   ]
  },
  {
   "cell_type": "code",
   "execution_count": 53,
   "id": "8ecedc3a",
   "metadata": {},
   "outputs": [],
   "source": [
    "dset_X_str = grp_strohman.create_dataset(\"X\", data=X)\n",
    "dset_y_str = grp_strohman.create_dataset(\"y\", data=y)\n",
    "dset_shots = grp_strohman.create_dataset(\"shots\", data=pulse_list)\n",
    "\n",
    "dset_X_str = grp_sampled.create_dataset(\"X\", data=X)\n",
    "dset_y_str = grp_sampled.create_dataset(\"y\", data=y_sampled)\n",
    "dset_shots = grp_sampled.create_dataset(\"shots\", data=pulse_list)\n",
    "f.close()"
   ]
  }
 ],
 "metadata": {
  "kernelspec": {
   "display_name": "Python 3 (ipykernel)",
   "language": "python",
   "name": "python3"
  },
  "language_info": {
   "codemirror_mode": {
    "name": "ipython",
    "version": 3
   },
   "file_extension": ".py",
   "mimetype": "text/x-python",
   "name": "python",
   "nbconvert_exporter": "python",
   "pygments_lexer": "ipython3",
   "version": "3.8.10"
  }
 },
 "nbformat": 4,
 "nbformat_minor": 5
}
